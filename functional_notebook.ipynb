{
 "cells": [
  {
   "cell_type": "markdown",
   "metadata": {},
   "source": [
    "# Scope\n",
    "This documents describes the theory behind the library of functions developed for the SweSOC project.  \n",
    "The library is a generic and modular SOC modeling framework, including a few models and climate scaling functions, together with a few implementation of Bayesian model comparison approaches. The frameworks is built for modularity and generalization, so that all functions can be combined easily with each other.  \n",
    "The main purpose of this document is to provide documentation for each building block (with emphasis on the collection of scaling functions and SOC decomposition models).\n",
    "\n",
    "\n",
    "# Main modeling blocks\n",
    "The soil SOC evolution is generally simulated with a compartmental SOC model and some functions linearly scaling the decomposition kinetics, so very coarsely:\n",
    "```mermaid\n",
    "graph TD\n",
    "\n",
    "    AirT((Temperature)) --> SoilTmodel[Soil temp model]\n",
    "    SoilTmodel --> SoilT((Soil Temp))\n",
    "    MoistWe((Weather data)) --> SoilWmodel[Soil weather model]\n",
    "    SoilWmodel --> SoilW((Soil Moisture))\n",
    "\n",
    "    SoilT --> SoilTscaling[Soil temperature modifier]\n",
    "    SoilTscaling --> SoilTxi((Soil T scaling))\n",
    "    SoilW --> SoilWscaling[Soil water modifier]\n",
    "    SoilWscaling --> SoilWxi((Soil W scaling))\n",
    "    Edaphic((Edaphic data)) --> SoilEMod[Soil edaphic model]\n",
    "    SoilEMod --> SoilExi((Soil E scaling))\n",
    "\n",
    "\n",
    "    SoilTxi --> SOC[SOC decomposition model]\n",
    "    SoilWxi --> SOC\n",
    "    SoilExi --> SOC\n",
    "\n",
    "    SOC --> SOCsim[Simulated SOC over time]\n",
    "\n",
    "```\n",
    "\n",
    "Each of these operator blocks (the square blocks) can be represented by different functions, and will be written as a separate module. All modules operating the same function will be interchangeable.\n",
    "\n",
    "\n",
    "# General SOC model structure\n",
    "Any compartmental soil organic matter decomposition model can be written as:\n",
    "$$\n",
    "\\frac{dC}{dt} = I - \\xi \\cdot A \\cdot C\n",
    "$$\n",
    "\n",
    "Which in extended form becomes:\n",
    "\n",
    "$$\n",
    "\\frac{d}{dt} \\begin{bmatrix} C_1 \\\\  C_2 \\\\ \\vdots \\\\ C_n \\end{bmatrix} = \\begin{bmatrix} I_1 \\\\ I_2 \\\\ \\vdots \\\\ I_n \\end{bmatrix} - \\xi \\cdot \\begin{bmatrix}\n",
    "k_{1} & h_{12} & \\cdots & h_{1n} \\\\\n",
    "h_{21} & k_{2} & \\cdots & h_{2n} \\\\\n",
    "\\vdots & \\vdots & \\ddots & \\vdots \\\\\n",
    "h_{n1} & h_{n2} & \\cdots & k_{n}\n",
    "\\end{bmatrix} \\begin{bmatrix} C_1 \\\\ C_2 \\\\ \\vdots \\\\ C_n \\end{bmatrix}\n",
    "$$\n",
    "\n",
    "the $\\xi$ term is a scalar interacting linearly with all the kinetic terms $k$ and summarizes all the interactions with decomposition kinetics. These can be climatic (for all models) and edaphic (some models only).\n",
    "\n",
    "$$\n",
    "\\xi = \\xi_{temp} \\cdot \\xi_{moist} \\cdot \\xi_{clay} \\cdot \\xi_{...}\n",
    "$$\n"
   ]
  },
  {
   "cell_type": "code",
   "execution_count": 2,
   "metadata": {},
   "outputs": [],
   "source": [
    "# import important libraries\n",
    "import numpy as np\n",
    "import pandas as pd\n",
    "import matplotlib.pyplot as plt\n",
    "import seaborn as sns\n",
    "import pymc as pm\n",
    "import arviz as az "
   ]
  },
  {
   "cell_type": "markdown",
   "metadata": {},
   "source": [
    "# Climate and edaphic interactions\n",
    "Climate and edaphic interactions are considered as scaling of the kinetics $k$\n",
    "\n",
    "### Simulation of soil temperature\n"
   ]
  },
  {
   "cell_type": "markdown",
   "metadata": {},
   "source": [
    "\n",
    "### Simulation of soil moisture"
   ]
  },
  {
   "cell_type": "markdown",
   "metadata": {},
   "source": [
    "## Climate scaling functions\n",
    "The functions collected in this library are from various models\n",
    "\n",
    "### Temperature scaling functions"
   ]
  },
  {
   "cell_type": "markdown",
   "metadata": {},
   "source": [
    "#### RothC"
   ]
  },
  {
   "cell_type": "code",
   "execution_count": 4,
   "metadata": {},
   "outputs": [],
   "source": [
    "def ft_RothC(TempC):\n",
    "    \n",
    "    '''\n",
    "    \n",
    "Effects of temperature on decomposition rates according to the functions\n",
    " included in the RothC model\n",
    " \n",
    " Calculates the effects of temperature on decomposition rates according to\n",
    "the functions included in the RothC model.\n",
    " \n",
    " Temp A scalar or vector containing values of temperature for which\n",
    " the effects on decomposition rates are calculated.\n",
    " return A scalar or a vector containing the effects of temperature on\n",
    " decomposition rates (unitless).\n",
    "  @note This function returns NA for Temp <= -18.3\n",
    "  @references Jenkinson, D. S., S. P. S. Andrew, J. M. Lynch, M. J. Goss, and\n",
    "   P. B. Tinker (1990), The Turnover of Organic Carbon and Nitrogen in Soil,\n",
    "   Philosophical Transactions: Biological Sciences, 329(1255), 361-368.\n",
    "    \n",
    "    '''\n",
    "    #Temp=TempC+273.16\n",
    "    ft_rothC=47.9/(1+np.exp(106/(np.where(TempC<= -18.3, np.nan, TempC)+18.3)))\n",
    "    return ft_rothC"
   ]
  },
  {
   "cell_type": "markdown",
   "metadata": {},
   "source": [
    "#### ICBMa: Arrhenius"
   ]
  },
  {
   "cell_type": "code",
   "execution_count": 5,
   "metadata": {},
   "outputs": [],
   "source": [
    "def arrhenius_factor(TempC, A=1000,Ea=75000, Re=8.3144621):\n",
    "    '''\n",
    "Effects of temperature on decomposition rates according the Arrhenius\n",
    "equation\n",
    "The function calculates the effects of temperature on decomposition rates according to the Arrhenius equation and returns \n",
    "A scalar or a vector containing the effects of temperature on decomposition rates (unitless).\n",
    "\n",
    "TempC: A scalar or vector containing values of temperature (in degrees celcius) for which the effects on decomposition rates are calculated.\n",
    "A: A scalar defining the pre-exponential factor.\n",
    "Ea: A scalar defining the activation energy in units of J mol^-1.\n",
    "Re A scalar defining the universal gas contents in units of J K^-1 mol^-1.\n",
    "\n",
    "    '''\n",
    "    Temp=TempC+273.16\n",
    "    arr_factor=A*np.exp(-Ea/(Re*Temp))\n",
    "    return arr_factor"
   ]
  },
  {
   "cell_type": "markdown",
   "metadata": {},
   "source": [
    "#### ICBMb: Andren_Katterer 2001"
   ]
  },
  {
   "cell_type": "code",
   "execution_count": 29,
   "metadata": {},
   "outputs": [],
   "source": [
    "def Andren_Katterer(TempC):\n",
    "    '''\n",
    "The dependence of decomposition rates on soil temperature was calculated following Andren and Katterer 2001 equation (27)\n",
    "The function calculates the effects of temperature on decomposition rates according to the Arrhenius equation and returns \n",
    "A scalar or a vector containing the effects of temperature on decomposition rates (unitless).\n",
    "\n",
    "TempC: A scalar or vector containing values of temperature (in degrees celcius) for which the effects on decomposition rates are calculated.\n",
    "note This function returns NA for Temp <= -4\n",
    "\n",
    "    \n",
    "    '''\n",
    "    Tempmax=23\n",
    "    Tempmin=-4\n",
    "    rateandren=((TempC-Tempmin)**2)/(Tempmax-Tempmin)**2\n",
    "    rateandren=np.where(TempC<Tempmin, 0, rateandren)\n",
    "    return rateandren\n",
    "\n",
    "    # TempC=np.where(TempC<-4, 0, rateandren)\n",
    "    # rateandren=((TempC--4)**2)/(23--4)**2\n",
    "\n",
    "    return rateandren"
   ]
  },
  {
   "cell_type": "markdown",
   "metadata": {},
   "source": [
    "#### ICBMc: Ratkowski\n"
   ]
  },
  {
   "cell_type": "code",
   "execution_count": 7,
   "metadata": {},
   "outputs": [],
   "source": [
    "def ratkowski(TempC, \n",
    "                           C=0.00522739,\n",
    "                           DHA=69.515,\n",
    "                           n=388,\n",
    "                           DH=5311,\n",
    "                           DCp=81.36):\n",
    "    Maxtemp=308.3 #temperature where proteins start to denaturate, taken from Ratkowski 2005, tab2, Tmes of S. thermophilus K120-6\n",
    "    Temp=TempC+273.16\n",
    "     \n",
    "    # Ratkowski 2005 part\n",
    "    r_ratkowski=(C*Temp*np.exp(-DHA/(8.314*Temp)))/(1+np.exp(-n*(DH-18.1*Temp+DCp*((Temp-373.6)-Temp*np.log(Temp/385.2)))/(8.314*Temp)))\n",
    "\n",
    "    return   r_ratkowski"
   ]
  },
  {
   "cell_type": "markdown",
   "metadata": {},
   "source": [
    "### ICBMd: lloyd and taylor 1994"
   ]
  },
  {
   "cell_type": "code",
   "execution_count": 8,
   "metadata": {},
   "outputs": [],
   "source": [
    "# Taken from Lorenzo R code:\n",
    "def lloyd_taylor(TempC):\n",
    "    E0=308.56\n",
    "    Tmin=227.13\n",
    "    Temp=TempC+273.16\n",
    "    Ea=53 # following lloyd and taylor 1996 paper\n",
    "    lloyd_taylor_r= 0.1604316*np.exp((Ea*1000/(283.15*8.314))*(1-(283.15/Temp)))\n",
    "    return lloyd_taylor_r\n",
    "\n",
    "\n",
    "# following equation 11 as described in lloyd and taylor 1994 paper\n",
    "def lloyd_taylor_11(TempC):\n",
    "      E0=308.56\n",
    "      Tmin=227.13\n",
    "      Temp=TempC+273.16\n",
    "      Q10= np.exp(10*E0/(Temp-Tmin)**2)\n",
    "      R=Q10*np.exp(E0*((1/56.02)-(1/(Temp-Tmin))))\n",
    "      return R"
   ]
  },
  {
   "cell_type": "markdown",
   "metadata": {},
   "source": [
    "### ICBMe: Lloyd and Taylor combined with Ratkowski"
   ]
  },
  {
   "cell_type": "code",
   "execution_count": 9,
   "metadata": {},
   "outputs": [],
   "source": [
    "def combined_ratkowski_lloyd_taylor(TempC,C=0.00522739,\n",
    "                           DHA=69.515,\n",
    "                           n=388,\n",
    "                           DH=5311,\n",
    "                           DCp=81.36):\n",
    "    Maxtemp=308.3\n",
    "    Temp=TempC+273.16\n",
    "    # Ratkowski\n",
    "    r_ratkowski_mod=(C*Temp[Temp>Maxtemp]*np.exp(-DHA/(8.314*Temp[Temp>Maxtemp])))/(1+np.exp(\n",
    "        -n*(DH-18.1*Temp[Temp>Maxtemp]+DCp*((Temp[Temp>Maxtemp]-373.6)-Temp[Temp>Maxtemp]*np.log(Temp[Temp>Maxtemp]/385.2)))/(8.314*Temp[Temp>Maxtemp])))\n",
    "    r_ratkowski_mod=np.where(r_ratkowski_mod>1, 1, r_ratkowski_mod)\n",
    "    \n",
    "    # Lloyd and Taylor 1996 part\n",
    "    E0=308.56\n",
    "    Tmin=227.13\n",
    "    r_lloyd=(47.2548*np.exp(-E0/(Temp[Temp<Maxtemp]-Tmin)))\n",
    "    r_lloyd=np.where(r_lloyd>1,1, r_lloyd)\n",
    "    combined_r=np.concatenate((r_lloyd,r_ratkowski_mod))\n",
    "    return combined_r"
   ]
  },
  {
   "cell_type": "markdown",
   "metadata": {},
   "source": [
    "#### Century"
   ]
  },
  {
   "cell_type": "code",
   "execution_count": 19,
   "metadata": {},
   "outputs": [],
   "source": [
    "def ft_Century(TempC):\n",
    "    ''' \n",
    "    #' Effects of temperature on decomposition rates according the the CENTURY\n",
    "#' model\n",
    "\n",
    "#' Calculates the effects of temperature on decomposition rates according to\n",
    "#' the CENTURY model.\n",
    "\n",
    "#' @param Temp A scalar or vector containing values of temperature for which\n",
    "#' the effects on decomposition rates are calculated.\n",
    "#' @param Tmax A scalar defining the maximum temperature in degrees C.\n",
    "#' @param Topt A scalar defining the optimum temperature for the decomposition\n",
    "#' process in degrees C.\n",
    "#' @return A scalar or a vector containing the effects of temperature on\n",
    "#' decomposition rates (unitless).\n",
    "#' @references Adair, E. C., W. J. Parton, S. J. D. Grosso, W. L. Silver, M. E.\n",
    "#' Harmon, S. A. Hall, I. C. Burke, and S. C. Hart. 2008.  Simple three-pool\n",
    "#' model accurately describes patterns of long-term litter decomposition in\n",
    "#' diverse climates. Global Change Biology 14:2636-2660.\n",
    "    \n",
    "    '''\n",
    "    Tmax=45,   \n",
    "    Topt=35\n",
    "    ft_cent=3.439423*np.exp(0.2/2.63)*(1-((Tmax-TempC)/(Tmax-Topt))**2.63)*((Tmax-TempC)/(Tmax-Topt))**0.2\n",
    "    return ft_cent"
   ]
  },
  {
   "cell_type": "code",
   "execution_count": 23,
   "metadata": {},
   "outputs": [
    {
     "data": {
      "text/plain": [
       "7.559406514145159"
      ]
     },
     "execution_count": 23,
     "metadata": {},
     "output_type": "execute_result"
    }
   ],
   "source": [
    "c=45\n",
    "ft_r=ft_RothC(c)\n",
    "ft_r"
   ]
  },
  {
   "cell_type": "code",
   "execution_count": null,
   "metadata": {},
   "outputs": [],
   "source": [
    "#create random dataset that range from -35 to 45 C \n",
    "\n",
    "TempC=np.arange(-35,45)\n",
    "TempC\n",
    "\n",
    "\n",
    "def re_temp(TempC, method=[\"RothC\", \"ICBMa\", \"ICBMb\",\"ICBMc\",\"ICBMd\",\"ICBMe\",\"Century\"]):\n",
    "    if method==\"RothC\":\n",
    "        re_ft=ft_Rocth(TempC)\n",
    "            \n",
    "    elif method==\"ICBMa\":\n",
    "        re_ft=arrhenius_factor(TempC)\n",
    "    else:\n",
    "        re_ft=Andren_Katterer(TempC)\n",
    "    \n",
    "    return re_ft\n",
    "        "
   ]
  },
  {
   "cell_type": "code",
   "execution_count": 33,
   "metadata": {},
   "outputs": [
    {
     "data": {
      "image/png": "[encoded data removed]",
      "text/plain": [
       "<Figure size 800x600 with 4 Axes>"
      ]
     },
     "metadata": {},
     "output_type": "display_data"
    }
   ],
   "source": [
    "# Run a Test and check a few temperature functions\n",
    "TempC=np.arange(-35,45)         \n",
    "ft_AK=Andren_Katterer(TempC)\n",
    "ft_Rat=ratkowski(TempC)\n",
    "ft_LT=lloyd_taylor(TempC)\n",
    "ft_LT11=lloyd_taylor_11(TempC)\n",
    "ft_RA_Lt=combined_ratkowski_lloyd_taylor(TempC)\n",
    "ft_Arr=arrhenius_factor(TempC)\n",
    "ft_rothc=ft_RothC(TempC)\n",
    "\n",
    "\n",
    "# plot functions\n",
    "plt.style.use('_mpl-gallery')\n",
    "\n",
    "fig, axs=plt.subplots(ncols=2,nrows=2, figsize=(8,6))\n",
    "fig.tight_layout()\n",
    "axs[0,0].plot(TempC,ft_AK, color=\"g\", label=\"Andren and Katterer equation\")\n",
    "axs[0,0].legend(loc=\"upper left\")\n",
    "axs[0,1].plot(TempC, ft_RA_Lt, color=\"red\", label=\"combined ratkowski and lloyd\")\n",
    "axs[0,1].legend(loc=\"upper left\")\n",
    "axs[1,0].plot(TempC, ft_Arr, color=\"blue\", label=\"Arrhenius equation\")\n",
    "axs[1,0].legend(loc=\"upper left\")\n",
    "axs[1,1].plot(TempC, ft_rothc, color=\"brown\",label=\"RothC equation\" )\n",
    "axs[1,1].legend(loc=\"upper left\")\n",
    "\n",
    "plt.show();\n",
    "#fig.savefig('Fig2.png', dpi=600,bbox_inches='tight', pad_inches=0.15);"
   ]
  },
  {
   "cell_type": "markdown",
   "metadata": {},
   "source": [
    "\n",
    "### Moisture scaling functions\n",
    "\n"
   ]
  },
  {
   "cell_type": "markdown",
   "metadata": {},
   "source": [
    "\n",
    "# General SOC model initialization approach\n"
   ]
  },
  {
   "cell_type": "markdown",
   "metadata": {},
   "source": [
    "# Calibration approaches\n",
    "\n"
   ]
  },
  {
   "cell_type": "markdown",
   "metadata": {},
   "source": [
    "## ICBM multi-site recalibration\n"
   ]
  },
  {
   "cell_type": "markdown",
   "metadata": {},
   "source": [
    "## Multi-model multi-site recalibration\n"
   ]
  },
  {
   "cell_type": "markdown",
   "metadata": {},
   "source": [
    "## Multi-model Bayesian factorial comparison"
   ]
  }
 ],
 "metadata": {
  "kernelspec": {
   "display_name": "socmodels_env",
   "language": "python",
   "name": "python3"
  },
  "language_info": {
   "codemirror_mode": {
    "name": "ipython",
    "version": 3
   },
   "file_extension": ".py",
   "mimetype": "text/x-python",
   "name": "python",
   "nbconvert_exporter": "python",
   "pygments_lexer": "ipython3",
   "version": "3.12.4"
  }
 },
 "nbformat": 4,
 "nbformat_minor": 2
}
