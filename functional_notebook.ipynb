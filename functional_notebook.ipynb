{
 "cells": [
  {
   "cell_type": "markdown",
   "metadata": {},
   "source": [
    "# Scope\n",
    "This documents describes the theory behind the library of functions developed for the SweSOC project.  \n",
    "The library is a generic and modular SOC modeling framework, including a few models and climate scaling functions, together with a few implementation of Bayesian model comparison approaches. The frameworks is built for modularity and generalization, so that all functions can be combined easily with each other.  \n",
    "The main purpose of this document is to provide documentation for each building block (with emphasis on the collection of scaling functions and SOC decomposition models).\n",
    "\n",
    "\n",
    "# Main modeling blocks\n",
    "The soil SOC evolution is generally simulated with a compartmental SOC model and some functions linearly scaling the decomposition kinetics, so very coarsely:\n",
    "```mermaid\n",
    "graph TD\n",
    "\n",
    "    AirT((Temperature)) --> SoilTmodel[Soil temp model]\n",
    "    SoilTmodel --> SoilT((Soil Temp))\n",
    "    MoistWe((Weather data)) --> SoilWmodel[Soil weather model]\n",
    "    SoilWmodel --> SoilW((Soil Moisture))\n",
    "\n",
    "    SoilT --> SoilTscaling[Soil temperature modifier]\n",
    "    SoilTscaling --> SoilTxi((Soil T scaling))\n",
    "    SoilW --> SoilWscaling[Soil water modifier]\n",
    "    SoilWscaling --> SoilWxi((Soil W scaling))\n",
    "    Edaphic((Edaphic data)) --> SoilEMod[Soil edaphic model]\n",
    "    SoilEMod --> SoilExi((Soil E scaling))\n",
    "\n",
    "\n",
    "    SoilTxi --> SOC[SOC decomposition model]\n",
    "    SoilWxi --> SOC\n",
    "    SoilExi --> SOC\n",
    "\n",
    "    SOC --> SOCsim[Simulated SOC over time]\n",
    "\n",
    "```\n",
    "\n",
    "Each of these operator blocks (the square blocks) can be represented by different functions, and will be written as a separate module. All modules operating the same function will be interchangeable.\n",
    "\n",
    "\n",
    "# General SOC model structure\n",
    "Any compartmental soil organic matter decomposition model can be written as:\n",
    "$$\n",
    "\\frac{dC}{dt} = I - \\xi \\cdot A \\cdot C\n",
    "$$\n",
    "\n",
    "Which in extended form becomes:\n",
    "\n",
    "$$\n",
    "\\frac{d}{dt} \\begin{bmatrix} C_1 \\\\  C_2 \\\\ \\vdots \\\\ C_n \\end{bmatrix} = \\begin{bmatrix} I_1 \\\\ I_2 \\\\ \\vdots \\\\ I_n \\end{bmatrix} - \\xi \\cdot \\begin{bmatrix}\n",
    "k_{1} & h_{12} & \\cdots & h_{1n} \\\\\n",
    "h_{21} & k_{2} & \\cdots & h_{2n} \\\\\n",
    "\\vdots & \\vdots & \\ddots & \\vdots \\\\\n",
    "h_{n1} & h_{n2} & \\cdots & k_{n}\n",
    "\\end{bmatrix} \\begin{bmatrix} C_1 \\\\ C_2 \\\\ \\vdots \\\\ C_n \\end{bmatrix}\n",
    "$$\n",
    "\n",
    "the $\\xi$ term is a scalar interacting linearly with all the kinetic terms $k$ and summarizes all the interactions with decomposition kinetics. These can be climatic (for all models) and edaphic (some models only).\n",
    "\n",
    "$$\n",
    "\\xi = \\xi_{temp} \\cdot \\xi_{moist} \\cdot \\xi_{clay} \\cdot \\xi_{...}\n",
    "$$\n"
   ]
  },
  {
   "cell_type": "code",
   "execution_count": 2,
   "metadata": {},
   "outputs": [
    {
     "ename": "ModuleNotFoundError",
     "evalue": "No module named 'seaborn'",
     "output_type": "error",
     "traceback": [
      "\u001b[0;31m---------------------------------------------------------------------------\u001b[0m",
      "\u001b[0;31mModuleNotFoundError\u001b[0m                       Traceback (most recent call last)",
      "Cell \u001b[0;32mIn[2], line 6\u001b[0m\n\u001b[1;32m      4\u001b[0m \u001b[38;5;28;01mimport\u001b[39;00m \u001b[38;5;21;01mpandas\u001b[39;00m \u001b[38;5;28;01mas\u001b[39;00m \u001b[38;5;21;01mpd\u001b[39;00m\n\u001b[1;32m      5\u001b[0m \u001b[38;5;28;01mimport\u001b[39;00m \u001b[38;5;21;01mmatplotlib\u001b[39;00m\u001b[38;5;21;01m.\u001b[39;00m\u001b[38;5;21;01mpyplot\u001b[39;00m \u001b[38;5;28;01mas\u001b[39;00m \u001b[38;5;21;01mplt\u001b[39;00m\n\u001b[0;32m----> 6\u001b[0m \u001b[38;5;28;01mimport\u001b[39;00m \u001b[38;5;21;01mseaborn\u001b[39;00m \u001b[38;5;28;01mas\u001b[39;00m \u001b[38;5;21;01msns\u001b[39;00m\n\u001b[1;32m      7\u001b[0m \u001b[38;5;28;01mimport\u001b[39;00m \u001b[38;5;21;01mpymc\u001b[39;00m \u001b[38;5;28;01mas\u001b[39;00m \u001b[38;5;21;01mpm\u001b[39;00m\n\u001b[1;32m      8\u001b[0m \u001b[38;5;28;01mimport\u001b[39;00m \u001b[38;5;21;01marviz\u001b[39;00m \u001b[38;5;28;01mas\u001b[39;00m \u001b[38;5;21;01maz\u001b[39;00m \n",
      "\u001b[0;31mModuleNotFoundError\u001b[0m: No module named 'seaborn'"
     ]
    }
   ],
   "source": [
    "# import important libraries\n",
    "import math\n",
    "import numpy as np\n",
    "import pandas as pd\n",
    "import matplotlib.pyplot as plt\n",
    "import seaborn as sns\n",
    "import pymc as pm\n",
    "import arviz as az "
   ]
  },
  {
   "cell_type": "markdown",
   "metadata": {},
   "source": [
    "# Climate and edaphic interactions\n",
    "Climate and edaphic interactions are considered as scaling of the kinetics $k$\n",
    "\n",
    "### Simulation of soil temperature\n"
   ]
  },
  {
   "cell_type": "markdown",
   "metadata": {},
   "source": [
    "\n",
    "### Simulation of soil moisture"
   ]
  },
  {
   "cell_type": "markdown",
   "metadata": {},
   "source": [
    "## Climate scaling functions\n",
    "The functions collected in this library are from various models\n",
    "\n",
    "### Temperature scaling functions"
   ]
  },
  {
   "cell_type": "markdown",
   "metadata": {},
   "source": [
    "#### RothC"
   ]
  },
  {
   "cell_type": "code",
   "execution_count": null,
   "metadata": {},
   "outputs": [
    {
     "ename": "",
     "evalue": "",
     "output_type": "error",
     "traceback": [
      "\u001b[1;31mRunning cells with 'socmodels (Python 3.12.4)' requires the ipykernel package.\n",
      "\u001b[1;31mRun the following command to install 'ipykernel' into the Python environment. \n",
      "\u001b[1;31mCommand: 'conda install -n socmodels ipykernel --update-deps --force-reinstall'"
     ]
    }
   ],
   "source": [
    "def ft_RothC(TempC):\n",
    "    \n",
    "    '''\n",
    "    \n",
    "Effects of temperature on decomposition rates according to the functions\n",
    " included in the RothC model\n",
    " \n",
    " Calculates the effects of temperature on decomposition rates according to\n",
    "the functions included in the RothC model.\n",
    " \n",
    " Temp A scalar or vector containing values of temperature for which\n",
    " the effects on decomposition rates are calculated.\n",
    " return A scalar or a vector containing the effects of temperature on\n",
    " decomposition rates (unitless).\n",
    "  @note This function returns NA for Temp <= -18.3\n",
    "  @references Jenkinson, D. S., S. P. S. Andrew, J. M. Lynch, M. J. Goss, and\n",
    "   P. B. Tinker (1990), The Turnover of Organic Carbon and Nitrogen in Soil,\n",
    "   Philosophical Transactions: Biological Sciences, 329(1255), 361-368.\n",
    "    \n",
    "    '''\n",
    "    #Temp=TempC+273.16\n",
    "    ft_rothC=47.9/(1+np.exp(106/(np.where(TempC<= -18.3, np.nan, TempC)+18.3)))\n",
    "    return ft_rothC"
   ]
  },
  {
   "cell_type": "markdown",
   "metadata": {},
   "source": [
    "#### ICBMa: Arrhenius"
   ]
  },
  {
   "cell_type": "code",
   "execution_count": null,
   "metadata": {},
   "outputs": [
    {
     "ename": "",
     "evalue": "",
     "output_type": "error",
     "traceback": [
      "\u001b[1;31mRunning cells with 'socmodels (Python 3.12.4)' requires the ipykernel package.\n",
      "\u001b[1;31mRun the following command to install 'ipykernel' into the Python environment. \n",
      "\u001b[1;31mCommand: 'conda install -n socmodels ipykernel --update-deps --force-reinstall'"
     ]
    }
   ],
   "source": [
    "def arrhenius_factor(TempC, A=1000,Ea=75000, Re=8.3144621):\n",
    "    '''\n",
    "Effects of temperature on decomposition rates according the Arrhenius\n",
    "equation\n",
    "The function calculates the effects of temperature on decomposition rates according to the Arrhenius equation and returns \n",
    "A scalar or a vector containing the effects of temperature on decomposition rates (unitless).\n",
    "\n",
    "TempC: A scalar or vector containing values of temperature (in degrees celcius) for which the effects on decomposition rates are calculated.\n",
    "A: A scalar defining the pre-exponential factor.\n",
    "Ea: A scalar defining the activation energy in units of J mol^-1.\n",
    "Re A scalar defining the universal gas contents in units of J K^-1 mol^-1.\n",
    "\n",
    "    '''\n",
    "    Temp=TempC+273.16\n",
    "    arr_factor=A*np.exp(-Ea/(Re*Temp))\n",
    "    return arr_factor"
   ]
  },
  {
   "cell_type": "markdown",
   "metadata": {},
   "source": [
    "#### ICBMb: Andren_Katterer 2001"
   ]
  },
  {
   "cell_type": "code",
   "execution_count": null,
   "metadata": {},
   "outputs": [
    {
     "ename": "",
     "evalue": "",
     "output_type": "error",
     "traceback": [
      "\u001b[1;31mRunning cells with 'socmodels (Python 3.12.4)' requires the ipykernel package.\n",
      "\u001b[1;31mRun the following command to install 'ipykernel' into the Python environment. \n",
      "\u001b[1;31mCommand: 'conda install -n socmodels ipykernel --update-deps --force-reinstall'"
     ]
    }
   ],
   "source": [
    "def Andren_Katterer(TempC):\n",
    "    '''\n",
    "The dependence of decomposition rates on soil temperature was calculated following Andren and Katterer 2001 equation (27)\n",
    "The function calculates the effects of temperature on decomposition rates according to the Arrhenius equation and returns \n",
    "A scalar or a vector containing the effects of temperature on decomposition rates (unitless).\n",
    "\n",
    "TempC: A scalar or vector containing values of temperature (in degrees celcius) for which the effects on decomposition rates are calculated.\n",
    "note This function returns NA for Temp <= -4\n",
    "\n",
    "    \n",
    "    '''\n",
    "    Tempmax=23\n",
    "    Tempmin=-4\n",
    "    rateandren=((TempC-Tempmin)**2)/(Tempmax-Tempmin)**2\n",
    "    rateandren=np.where(TempC<Tempmin, 0, rateandren)\n",
    "    return rateandren\n",
    "\n",
    "    # TempC=np.where(TempC<-4, 0, rateandren)\n",
    "    # rateandren=((TempC--4)**2)/(23--4)**2\n",
    "\n",
    "    return rateandren"
   ]
  },
  {
   "cell_type": "markdown",
   "metadata": {},
   "source": [
    "#### ICBMc: Ratkowski\n"
   ]
  },
  {
   "cell_type": "code",
   "execution_count": null,
   "metadata": {},
   "outputs": [
    {
     "ename": "",
     "evalue": "",
     "output_type": "error",
     "traceback": [
      "\u001b[1;31mRunning cells with 'socmodels (Python 3.12.4)' requires the ipykernel package.\n",
      "\u001b[1;31mRun the following command to install 'ipykernel' into the Python environment. \n",
      "\u001b[1;31mCommand: 'conda install -n socmodels ipykernel --update-deps --force-reinstall'"
     ]
    }
   ],
   "source": [
    "def ratkowski(TempC, \n",
    "                           C=0.00522739,\n",
    "                           DHA=69.515,\n",
    "                           n=388,\n",
    "                           DH=5311,\n",
    "                           DCp=81.36):\n",
    "    Maxtemp=308.3 #temperature where proteins start to denaturate, taken from Ratkowski 2005, tab2, Tmes of S. thermophilus K120-6\n",
    "    Temp=TempC+273.16\n",
    "     \n",
    "    # Ratkowski 2005 part\n",
    "    r_ratkowski=(C*Temp*np.exp(-DHA/(8.314*Temp)))/(1+np.exp(-n*(DH-18.1*Temp+DCp*((Temp-373.6)-Temp*np.log(Temp/385.2)))/(8.314*Temp)))\n",
    "\n",
    "    return   r_ratkowski"
   ]
  },
  {
   "cell_type": "markdown",
   "metadata": {},
   "source": [
    "### ICBMd: lloyd and taylor 1994"
   ]
  },
  {
   "cell_type": "code",
   "execution_count": null,
   "metadata": {},
   "outputs": [
    {
     "ename": "",
     "evalue": "",
     "output_type": "error",
     "traceback": [
      "\u001b[1;31mRunning cells with 'socmodels (Python 3.12.4)' requires the ipykernel package.\n",
      "\u001b[1;31mRun the following command to install 'ipykernel' into the Python environment. \n",
      "\u001b[1;31mCommand: 'conda install -n socmodels ipykernel --update-deps --force-reinstall'"
     ]
    }
   ],
   "source": [
    "# Taken from Lorenzo R code:\n",
    "def lloyd_taylor(TempC):\n",
    "    E0=308.56\n",
    "    Tmin=227.13\n",
    "    Temp=TempC+273.16\n",
    "    Ea=53 # following lloyd and taylor 1996 paper\n",
    "    lloyd_taylor_r= 0.1604316*np.exp((Ea*1000/(283.15*8.314))*(1-(283.15/Temp)))\n",
    "    return lloyd_taylor_r\n",
    "\n",
    "\n",
    "# following equation 11 as described in lloyd and taylor 1994 paper\n",
    "def lloyd_taylor_11(TempC):\n",
    "      E0=308.56\n",
    "      Tmin=227.13\n",
    "      Temp=TempC+273.16\n",
    "      Q10= np.exp(10*E0/(Temp-Tmin)**2)\n",
    "      R=Q10*np.exp(E0*((1/56.02)-(1/(Temp-Tmin))))\n",
    "      return R"
   ]
  },
  {
   "cell_type": "markdown",
   "metadata": {},
   "source": [
    "### ICBMe: Lloyd and Taylor combined with Ratkowski"
   ]
  },
  {
   "cell_type": "code",
   "execution_count": null,
   "metadata": {},
   "outputs": [
    {
     "ename": "",
     "evalue": "",
     "output_type": "error",
     "traceback": [
      "\u001b[1;31mRunning cells with 'socmodels (Python 3.12.4)' requires the ipykernel package.\n",
      "\u001b[1;31mRun the following command to install 'ipykernel' into the Python environment. \n",
      "\u001b[1;31mCommand: 'conda install -n socmodels ipykernel --update-deps --force-reinstall'"
     ]
    }
   ],
   "source": [
    "def combined_ratkowski_lloyd_taylor(TempC,C=0.00522739,\n",
    "                           DHA=69.515,\n",
    "                           n=388,\n",
    "                           DH=5311,\n",
    "                           DCp=81.36):\n",
    "    Maxtemp=308.3\n",
    "    Temp=TempC+273.16\n",
    "    # Ratkowski\n",
    "    r_ratkowski_mod=(C*Temp[Temp>Maxtemp]*np.exp(-DHA/(8.314*Temp[Temp>Maxtemp])))/(1+np.exp(\n",
    "        -n*(DH-18.1*Temp[Temp>Maxtemp]+DCp*((Temp[Temp>Maxtemp]-373.6)-Temp[Temp>Maxtemp]*np.log(Temp[Temp>Maxtemp]/385.2)))/(8.314*Temp[Temp>Maxtemp])))\n",
    "    r_ratkowski_mod=np.where(r_ratkowski_mod>1, 1, r_ratkowski_mod)\n",
    "    \n",
    "    # Lloyd and Taylor 1996 part\n",
    "    E0=308.56\n",
    "    Tmin=227.13\n",
    "    r_lloyd=(47.2548*np.exp(-E0/(Temp[Temp<Maxtemp]-Tmin)))\n",
    "    r_lloyd=np.where(r_lloyd>1,1, r_lloyd)\n",
    "    combined_r=np.concatenate((r_lloyd,r_ratkowski_mod))\n",
    "    return combined_r"
   ]
  },
  {
   "cell_type": "markdown",
   "metadata": {},
   "source": [
    "#### Century"
   ]
  },
  {
   "cell_type": "code",
   "execution_count": null,
   "metadata": {},
   "outputs": [
    {
     "ename": "",
     "evalue": "",
     "output_type": "error",
     "traceback": [
      "\u001b[1;31mRunning cells with 'socmodels (Python 3.12.4)' requires the ipykernel package.\n",
      "\u001b[1;31mRun the following command to install 'ipykernel' into the Python environment. \n",
      "\u001b[1;31mCommand: 'conda install -n socmodels ipykernel --update-deps --force-reinstall'"
     ]
    }
   ],
   "source": [
    "def ft_Century(TempC):\n",
    "    ''' \n",
    "    #' Effects of temperature on decomposition rates according the the CENTURY\n",
    "#' model\n",
    "\n",
    "#' Calculates the effects of temperature on decomposition rates according to\n",
    "#' the CENTURY model.\n",
    "\n",
    "#' @param Temp A scalar or vector containing values of temperature for which\n",
    "#' the effects on decomposition rates are calculated.\n",
    "#' @param Tmax A scalar defining the maximum temperature in degrees C.\n",
    "#' @param Topt A scalar defining the optimum temperature for the decomposition\n",
    "#' process in degrees C.\n",
    "#' @return A scalar or a vector containing the effects of temperature on\n",
    "#' decomposition rates (unitless).\n",
    "#' @references Adair, E. C., W. J. Parton, S. J. D. Grosso, W. L. Silver, M. E.\n",
    "#' Harmon, S. A. Hall, I. C. Burke, and S. C. Hart. 2008.  Simple three-pool\n",
    "#' model accurately describes patterns of long-term litter decomposition in\n",
    "#' diverse climates. Global Change Biology 14:2636-2660.\n",
    "    \n",
    "    '''\n",
    "    Tmax=45,   \n",
    "    Topt=35\n",
    "    ft_cent=3.439423*np.exp(0.2/2.63)*(1-((Tmax-TempC)/(Tmax-Topt))**2.63)*((Tmax-TempC)/(Tmax-Topt))**0.2\n",
    "    return ft_cent"
   ]
  },
  {
   "cell_type": "code",
   "execution_count": null,
   "metadata": {},
   "outputs": [
    {
     "ename": "",
     "evalue": "",
     "output_type": "error",
     "traceback": [
      "\u001b[1;31mRunning cells with 'socmodels (Python 3.12.4)' requires the ipykernel package.\n",
      "\u001b[1;31mRun the following command to install 'ipykernel' into the Python environment. \n",
      "\u001b[1;31mCommand: 'conda install -n socmodels ipykernel --update-deps --force-reinstall'"
     ]
    }
   ],
   "source": [
    "c=45\n",
    "ft_r=ft_RothC(c)\n",
    "ft_r"
   ]
  },
  {
   "cell_type": "code",
   "execution_count": null,
   "metadata": {},
   "outputs": [
    {
     "ename": "",
     "evalue": "",
     "output_type": "error",
     "traceback": [
      "\u001b[1;31mRunning cells with 'socmodels (Python 3.12.4)' requires the ipykernel package.\n",
      "\u001b[1;31mRun the following command to install 'ipykernel' into the Python environment. \n",
      "\u001b[1;31mCommand: 'conda install -n socmodels ipykernel --update-deps --force-reinstall'"
     ]
    }
   ],
   "source": [
    "#create random dataset that range from -35 to 45 C \n",
    "\n",
    "TempC=np.arange(-35,45)\n",
    "TempC\n",
    "\n",
    "\n",
    "def re_temp(TempC, method=[\"RothC\", \"ICBMa\", \"ICBMb\",\"ICBMc\",\"ICBMd\",\"ICBMe\",\"Century\"]):\n",
    "    if method==\"RothC\":\n",
    "        re_ft=ft_Rocth(TempC)\n",
    "            \n",
    "    elif method==\"ICBMa\":\n",
    "        re_ft=arrhenius_factor(TempC)\n",
    "    else:\n",
    "        re_ft=Andren_Katterer(TempC)\n",
    "    \n",
    "    return re_ft\n",
    "        "
   ]
  },
  {
   "cell_type": "code",
   "execution_count": null,
   "metadata": {},
   "outputs": [
    {
     "ename": "",
     "evalue": "",
     "output_type": "error",
     "traceback": [
      "\u001b[1;31mRunning cells with 'socmodels (Python 3.12.4)' requires the ipykernel package.\n",
      "\u001b[1;31mRun the following command to install 'ipykernel' into the Python environment. \n",
      "\u001b[1;31mCommand: 'conda install -n socmodels ipykernel --update-deps --force-reinstall'"
     ]
    }
   ],
   "source": [
    "# Run a Test and check a few temperature functions\n",
    "TempC=np.arange(-35,45)         \n",
    "ft_AK=Andren_Katterer(TempC)\n",
    "ft_Rat=ratkowski(TempC)\n",
    "ft_LT=lloyd_taylor(TempC)\n",
    "ft_LT11=lloyd_taylor_11(TempC)\n",
    "ft_RA_Lt=combined_ratkowski_lloyd_taylor(TempC)\n",
    "ft_Arr=arrhenius_factor(TempC)\n",
    "ft_rothc=ft_RothC(TempC)\n",
    "\n",
    "\n",
    "# plot functions\n",
    "plt.style.use('_mpl-gallery')\n",
    "\n",
    "fig, axs=plt.subplots(ncols=2,nrows=2, figsize=(8,6))\n",
    "fig.tight_layout()\n",
    "axs[0,0].plot(TempC,ft_AK, color=\"g\", label=\"Andren and Katterer equation\")\n",
    "axs[0,0].legend(loc=\"upper left\")\n",
    "axs[0,1].plot(TempC, ft_RA_Lt, color=\"red\", label=\"combined ratkowski and lloyd\")\n",
    "axs[0,1].legend(loc=\"upper left\")\n",
    "axs[1,0].plot(TempC, ft_Arr, color=\"blue\", label=\"Arrhenius equation\")\n",
    "axs[1,0].legend(loc=\"upper left\")\n",
    "axs[1,1].plot(TempC, ft_rothc, color=\"brown\",label=\"RothC equation\" )\n",
    "axs[1,1].legend(loc=\"upper left\")\n",
    "\n",
    "plt.show();\n",
    "#fig.savefig('Fig2.png', dpi=600,bbox_inches='tight', pad_inches=0.15);"
   ]
  },
  {
   "cell_type": "code",
   "execution_count": null,
   "metadata": {},
   "outputs": [
    {
     "ename": "",
     "evalue": "",
     "output_type": "error",
     "traceback": [
      "\u001b[1;31mRunning cells with 'socmodels (Python 3.12.4)' requires the ipykernel package.\n",
      "\u001b[1;31mRun the following command to install 'ipykernel' into the Python environment. \n",
      "\u001b[1;31mCommand: 'conda install -n socmodels ipykernel --update-deps --force-reinstall'"
     ]
    }
   ],
   "source": [
    "# PET function\n",
    "# author: Lorenzo Menichetti, on specifications from Martin Bolinder\n",
    "# Year 2018, August\n",
    "\n",
    "#PET\n",
    "#' Internal function to calculate the PET\n",
    "#'\n",
    "#' @description  the function is an implementation of the FAO 56 standard for evapotranspiration calculation\n",
    "#https://www.fao.org/4/X0490E/x0490e00.htm\n",
    "#' @author Lorenzo Menichetti \\email{ilmenichetti@@gmail.com}\n",
    "#' @param latitude self explanatory\n",
    "#' @param altitude altitude (meters)\n",
    "#' @param humidity (percent)\n",
    "#' @param temperature (C)\n",
    "#' @param windspeed in m/s\n",
    "#' @param sun radiation, (MJ  m^-2 day-1) sunlight (0 to 1) or cloudiness (0 to 1)\n",
    "#' @param sun.mode how sun energy is calculated (Rsolar = radiation energy, sunlight or cloudiness)\n",
    "#' @param date a date vector\n",
    "#'\n",
    "#' @return\n",
    "#' A data frame of 2 variables: \\code{date},\\code{PET}.\n",
    "#'\n",
    "#'\n",
    "#' @references\n",
    "#' Allen, R. G., Pereira, L. S., Raes, D. & Smith, M. Crop Evapotranspiration - Guidelines for Computing Crop Water Requirements - FAO Irrigation and Drainage Paper 56. 15.\n",
    "\n",
    "\n",
    "def PET(data):\n",
    "    \n",
    "    latitude=data.lat \n",
    "    altitude=data.alt\n",
    "    humidity=data.humidity\n",
    "    temperature=data.air_temp_deg_C \n",
    "    windspeed=data.windspeed \n",
    "    sun=data.Rsolar\n",
    "    sun_mode=\"Rsolar\"\n",
    "    date=data.date\n",
    "    day=np.array(data.date.dt.dayofyear.tolist())\n",
    "    \n",
    "    #convert the date in days of the year (lubridate is needed for this step)\n",
    "    #day=pd.Period(date, freq=\"D\")\n",
    "    #to be sure humidity does not go above 100\n",
    "    humidity=np.where(humidity>100, 100, humidity)\n",
    "    \n",
    "    #calculate penman=Eto from cloud etc;\n",
    "    vind2m =windspeed*4.87/(np.log(67.8*10-5.42))     #eq47;\n",
    "    \n",
    "    #parameters;\n",
    "    P=101.3*((293-0.0065*altitude)/293)**5.26   #eq7;\n",
    "    lambda_p=2.45 # renamed lambda because it is a reserved key in python\n",
    "    cp=0.001013\n",
    "    epsilon=0.622\n",
    "    gamma=cp*P/(epsilon*lambda_p) #eq8;\n",
    "    \n",
    "    #vapour pressure deficit;\n",
    "    es=0.6108*np.exp(17.27*temperature/(temperature+237.3)) #eq12;\n",
    "    ea=humidity/100*es; #eq17;\n",
    "    vpd=es-ea\n",
    "    \n",
    "    \n",
    "    #calulation of shortwave (or solar) radiation Rs from cloudiness;\n",
    "    Gsc=0.082\n",
    "    pi=3.141592654\n",
    "    dr=1+0.033*np.cos(2*pi/365*day);  #eq23;\n",
    "    de=0.409*np.sin(2*pi/365*day-1.39);  #eq24;\n",
    "    radians=pi/180*latitude;  #eq22;\n",
    "\n",
    "    ws=np.arccos(-np.tan(radians)*np.tan(de));  #eq25;\n",
    "    Ra= 24*60/pi*Gsc*dr*(ws*np.sin(radians)*np.sin(de)+np.cos(radians)*np.cos(de)*np.sin(ws));    #eq21;\n",
    "    Radevap=Ra/lambda_p\n",
    "    Daylight=24/pi*ws;  #eq34;\n",
    "    #where the function differs depending on the sunlight mode\n",
    "    #eq35 if solar rad not measured;\n",
    "    try:\n",
    "        if sun_mode==\"Rsolar\":\n",
    "            Rs=sun\n",
    "        elif sun_mode==\"sunlight\":\n",
    "            Rs= (0.25+0.5*sun)*Ra*1.05\n",
    "        elif sun_mode==\"cloudiness\":\n",
    "             sunlight=1-sun\n",
    "             Rs=(0.25+0.5*sunlight)*Ra*1.05\n",
    "    except:raise ValueError #please provide either Rsolar, sunlight (from 0 to 1) or cloudiness (from 0 to 1)\",\"\\n\")\n",
    "        \n",
    "    \n",
    "    #1.05 correction according to calibration;\n",
    "\n",
    "  #calulation of net radiation and longwave radiation;\n",
    "    Rso=(0.75+0.00002*altitude)*Ra  #eq37;\n",
    "    albedo=0.23\n",
    "    Rns=(1-albedo)*Rs;   #eq38;\n",
    "    TmeanK=273.15+temperature\n",
    "    SBolz=4.903*10**(-9)\n",
    "    RsRso=np.min(Rs/Rso) # chech with Lorenzo for possible correction\n",
    "    Rnl=SBolz*TmeanK**4*(0.34-0.14*ea**0.5)*(1.35*RsRso-0.35); #eq39;\n",
    "    Rn=Rns-Rnl\n",
    "    \n",
    "    delta=(4098*(0.6108*np.exp(17.27*temperature/(temperature+237.3)))/((temperature+237.3)**2));  #eq13;\n",
    "\n",
    "    Etotal=0.408*delta*Rn + gamma*900/(temperature+273)*vind2m*vpd; #eq6 page 65;\n",
    "    Etonam=delta+gamma*(1+0.34*vind2m); #eq6 page 65;\n",
    "    Et0= Etotal/ Etonam; #eq6 page 65;\n",
    "    Et0=np.where(Et0<0, 0, Et0)\n",
    "    df_ET=pd.DataFrame({\"date\":date, \"month\":data.month,\"day\":day,\"ET\":Et0})\n",
    "    \n",
    "    return df_ET\n",
    "    \n",
    "#testing the function\n",
    "test_data=pd.read_csv(\"Ekebo_weather2.csv\")\n",
    "test_data[\"date\"]=pd.to_datetime(test_data.date)\n",
    "\n",
    "ET_data=PET(test_data)\n",
    "\n",
    "fig, axs=plt.subplots(ncols=1,nrows=2, figsize=(12,10))\n",
    "sns.lineplot(data=ET_data, x=\"day\", y=\"ET\", ax=axs[0])\n",
    "axs[0].set_xlabel(\"Day of the year\")\n",
    "sns.lineplot(data=ET_data, x=\"month\", y=\"ET\", ax=axs[1])\n",
    "axs[1].set_xlabel(\"Day of the month\")\n",
    "plt.show();"
   ]
  },
  {
   "cell_type": "markdown",
   "metadata": {},
   "source": [
    "### Water balance model\n",
    "\n",
    "The water balance model is a relatively simple bucket model that calculates the water in soil at any time step by calculating the balance between the water already there, the precipitations, the evaporation, the water intercepted by the crop and the percolated water.\n",
    "The formulas come mainly from  Allen et al., 1998 <https://www.fao.org/3/x0490e/x0490e00.htm> .\n",
    "\n",
    "```mermaid\n",
    "graph TD    \n",
    "    A[Start] --> B[Initialize vectors and set soil water to max]\n",
    "    B --> C[For loop: i in 1:time series lenght]\n",
    "    C --> D[Calculate crop coefficient Kc from GAI]\n",
    "    D --> E[Calculate crop ET ETc from ref ET ET0]\n",
    "    E --> F[Calculate crop intercepted water]\n",
    "    F --> G[Calculate potential ET Epot]\n",
    "    G --> H[Calculate percolation]\n",
    "    H --> I[Calculate theta]\n",
    "    I --> J[Calculate Kr]\n",
    "    J --> K[If Kr > 1, set Kr to 1]\n",
    "    K --> L[Calculate Eact]\n",
    "    L --> M[Update water balance]\n",
    "    M --> C\n",
    "    M --> N[End]\n",
    "\n",
    "```\n",
    "\n",
    "\n",
    "The loop is initialized by setting the soil water content $WC$ to the maximum soil water storage capacity $\\theta_{fc} \\cdot L$, where $L$ is the length of the soil we are modeling.  \n",
    "\n",
    "1. **Calculate single crop coefficient Kc**  \n",
    "The crop coefficient, needed for the following calculations, is calculated based on green area index (GAI) for each time spet ($i$):  \n",
    "   $$k_{c_i} = 1.3 - 0.5 \\cdot e^{(-0.17 \\cdot GAI_{(i)})}$$\n",
    "2. **Calculate ETc**  \n",
    "We then have to calculat4 the crop evapotraspiration in standard condition from the standard evapotraspiration $ET_0$  \n",
    "   $$ET_c = ET_{0_i} \\cdot k_{c_i} $$\n",
    "3. **Calculate intercepted water**\n",
    "Then we calculate the water intercepted by the crop:  \n",
    "$$\n",
    "\\text{int} =\n",
    "\\begin{cases} \n",
    "      \\text{prec}[i] & \\text{if } \\text{prec}[i] \\leq \\text{ETc} \\text{ and } \\text{prec}[i] \\leq 0.2 \\times \\text{GAI}[i] \\\\\n",
    "      \\text{ETc} & \\text{if } \\text{ETc} \\leq \\text{prec}[i] \\text{ and } \\text{ETc} \\leq 0.2 \\times \\text{GAI}[i] \\\\\n",
    "      0.2 \\times \\text{GAI}[i] & \\text{if } 0.2 \\times \\text{GAI}[i] \\leq \\text{prec}[i] \\text{ and } 0.2 \\times \\text{GAI}[i] \\leq \\text{ETc}\n",
    "\\end{cases}\n",
    "$$\n",
    "\n",
    "4. **Calculate Epot**\n",
    "The potential evapotraspiration from the crop is calculated as crop ET $ET_c$ minus the water intercepted by the crop:  \n",
    "$$ET_{c_{pot}} = ET_c - \\text{int} $$\n",
    "\n",
    "5. **Calculate bypass**\n",
    "Next step is calculatig the eventual percolation. This is zero whenever the current water is less than the maximum storage capacity of the soil, otherwise the difference.\n",
    "$$\n",
    "\\text{bypass}[i] =\n",
    "\\begin{cases} \n",
    "      0 & \\text{if } \\text{water}[i] \\leq \\text{tfield} \\times L \\\\\n",
    "      \\text{water}[i] - (\\text{tfield} \\times L) & \\text{if } \\text{water}[i] > \\text{tfield} \\times L\n",
    "\\end{cases}\n",
    "$$\n",
    "\n",
    "6. **Calculate theta**\n",
    "We then need the actual soil water content as volumetric coefficient:  \n",
    "$$\\theta = \\frac{WC}{L}$$\n",
    "\n",
    "7. **Calculate soil evaporation reduction coefficient Kr**\n",
    "This factor represent the reduction of evaporation due to the energy limitations due to the water phase changes. It is 1 whenever the soil surface is wet (in this case this means that $K_r$ cannot be above 1), less otherwise.\n",
    "$$\n",
    "K_r =\n",
    "\\begin{cases} \n",
    "      1 & \\text{if } \\left(1 - \\frac{0.95 \\times \\text{tfield} - \\theta}{0.95 \\times \\text{tfield} - \\alpha \\times \\text{twilt}}\\right)^2 > 1 \\\\\n",
    "      \\left(1 - \\frac{0.95 \\times \\text{tfield} - \\theta}{0.95 \\times \\text{tfield} - \\alpha \\times \\text{twilt}}\\right)^2 & \\text{otherwise}\n",
    "\\end{cases}\n",
    "$$\n",
    "\n",
    "8. **Calculate Eact**\n",
    "We then use $K_r$ to calculate the actual evapotranspiration:\n",
    "$$ET_{act} = ET_{pot} \\cdot K_r$$\n",
    "\n",
    "9. **Update water**\n",
    "We now have all the elements to close our water balance model:\n",
    "$$WC_{i+1} = WC_i + \\text{prec} - ET_{act} - \\text{int} - \\text{perc}$$"
   ]
  },
  {
   "cell_type": "markdown",
   "metadata": {},
   "source": [
    "\n",
    "# General SOC model initialization approach\n"
   ]
  },
  {
   "cell_type": "markdown",
   "metadata": {},
   "source": [
    "# Calibration approaches\n",
    "\n"
   ]
  },
  {
   "cell_type": "markdown",
   "metadata": {},
   "source": [
    "## ICBM multi-site recalibration\n"
   ]
  },
  {
   "cell_type": "markdown",
   "metadata": {},
   "source": [
    "## Multi-model multi-site recalibration\n"
   ]
  },
  {
   "cell_type": "markdown",
   "metadata": {},
   "source": [
    "## Multi-model Bayesian factorial comparison"
   ]
  }
 ],
 "metadata": {
  "kernelspec": {
   "display_name": "socmodels_env",
   "language": "python",
   "name": "python3"
  },
  "language_info": {
   "codemirror_mode": {
    "name": "ipython",
    "version": 3
   },
   "file_extension": ".py",
   "mimetype": "text/x-python",
   "name": "python",
   "nbconvert_exporter": "python",
   "pygments_lexer": "ipython3",
   "version": "3.12.4"
  }
 },
 "nbformat": 4,
 "nbformat_minor": 2
}
